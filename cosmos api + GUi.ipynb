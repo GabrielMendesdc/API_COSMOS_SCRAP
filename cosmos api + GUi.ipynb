{
 "cells": [
  {
   "cell_type": "code",
   "execution_count": null,
   "id": "f4dbb208",
   "metadata": {},
   "outputs": [],
   "source": [
    "from tkinter import *\n",
    "import urllib\n",
    "import json\n",
    "import sys\n",
    "\n",
    "def on_key_pressing(event, entry, label):\n",
    "    ean = entry.get()\n",
    "    init(ean)\n",
    "    \n",
    "    \n",
    "def forget(widget):\n",
    "    widget.forget()\n",
    "\n",
    "    \n",
    "class PrintToT1(object):\n",
    "    def write(self, s):\n",
    "        t1.insert(END, s)\n",
    "        t1.tag_add(\"center\", \"1.0\", \"end\")\n",
    "        \n",
    "        \n",
    "root = Tk()\n",
    "root.geometry('1220x500')\n",
    "root.minsize(1220, 500)\n",
    "root.config(bg='pink')\n",
    "root.title(\"API COSMOS\")\n",
    "# root.attributes('-fullscreen', True)\n",
    "root.resizable(True, True)\n",
    "entry = Entry(root)\n",
    "entry.pack(side=\"top\")\n",
    "entry.bind(\"<Return>\", lambda e: on_key_pressing(e, entry, root))\n",
    "t1 = Text(root, bg='black', fg='white')\n",
    "t1.tag_configure(\"center\", justify='center')\n",
    "t1.config(font=(\"Courier\", 40))\n",
    "t1.pack(expand=True, fill='both')\n",
    "sys.stdout = PrintToT1()\n",
    "    \n",
    "def init(ean):\n",
    "    if ean:\n",
    "        headers = {'X-Cosmos-Token':'e4VaSr-smzGgmxO6zm3X_A','Content-Type':'application/json','User-Agent':'Cosmos-API-Request'}\n",
    "        req      = urllib.request.Request(f'https://api.cosmos.bluesoft.com.br/gtins/{ean.strip()}.json', None, headers)\n",
    "        response = urllib.request.urlopen(req)\n",
    "        data     = json.loads(response.read())\n",
    "        print(f\"Nome: {data['description']}\")\n",
    "        print(f\"Ean: {data['gtin']}\")\n",
    "        print(f\"Preço: {data['price']}\\n Preço médio: R$ {data['avg_price']:.2f}\")\n",
    "        print(f\"Quantidade da caixa: {data['gtins'][0]['commercial_unit']['quantity_packaging']}\")\n",
    "        \n",
    "\n",
    "root.mainloop()"
   ]
  },
  {
   "cell_type": "code",
   "execution_count": null,
   "id": "ef5ba4df",
   "metadata": {},
   "outputs": [],
   "source": []
  }
 ],
 "metadata": {
  "kernelspec": {
   "display_name": "Python (bot)",
   "language": "python",
   "name": "bot"
  },
  "language_info": {
   "codemirror_mode": {
    "name": "ipython",
    "version": 3
   },
   "file_extension": ".py",
   "mimetype": "text/x-python",
   "name": "python",
   "nbconvert_exporter": "python",
   "pygments_lexer": "ipython3",
   "version": "3.9.7"
  }
 },
 "nbformat": 4,
 "nbformat_minor": 5
}
